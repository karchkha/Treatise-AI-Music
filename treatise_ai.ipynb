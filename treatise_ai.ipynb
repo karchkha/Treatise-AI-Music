{
 "cells": [
  {
   "cell_type": "markdown",
   "metadata": {},
   "source": [
    "\n",
    "# Treatise-AI-Music Demo\n",
    "### Authors: Tornike Karchkhadze, Keren Shao, Shlomo Dubnov\n"
   ]
  },
  {
   "cell_type": "code",
   "execution_count": null,
   "metadata": {},
   "outputs": [],
   "source": [
    "# 📦 Install dependencies\n",
    "!pip install pytorch-lightning==1.9.4 torchlibrosa ftfy braceexpand webdataset wget vector_quantize_pytorch taming-transformers==0.0.1 --quiet\n",
    "!pip install numpy==1.26.4\n"
   ]
  },
  {
   "cell_type": "code",
   "execution_count": null,
   "metadata": {},
   "outputs": [],
   "source": [
    "#### clone repo\n",
    "# 🔽 Clone the repo (delete if already exists)\n",
    "%cd /content\n",
    "!rm -rf Treatise-AI-Music\n",
    "!git clone https://github.com/karchkha/Treatise-AI-Music.git --quiet\n",
    "%cd Treatise-AI-Music\n",
    "\n"
   ]
  },
  {
   "cell_type": "code",
   "execution_count": null,
   "metadata": {},
   "outputs": [],
   "source": [
    "from src.utilities.chkpt import ensure_checkpoints\n",
    "\n",
    "# this will download the checkpoints if they are not already present\n",
    "ensure_checkpoints()\n"
   ]
  },
  {
   "cell_type": "code",
   "execution_count": null,
   "metadata": {},
   "outputs": [],
   "source": [
    "%cd Treatise-AI-Music\n",
    "\n",
    "!python infer_musicldm_continuous.py --texts treatise_commands.txt"
   ]
  },
  {
   "cell_type": "code",
   "execution_count": null,
   "metadata": {},
   "outputs": [],
   "source": []
  }
 ],
 "metadata": {
  "kernelspec": {
   "display_name": "musicldm_env",
   "language": "python",
   "name": "python3"
  },
  "language_info": {
   "codemirror_mode": {
    "name": "ipython",
    "version": 3
   },
   "file_extension": ".py",
   "mimetype": "text/x-python",
   "name": "python",
   "nbconvert_exporter": "python",
   "pygments_lexer": "ipython3",
   "version": "3.9.16"
  }
 },
 "nbformat": 4,
 "nbformat_minor": 2
}
