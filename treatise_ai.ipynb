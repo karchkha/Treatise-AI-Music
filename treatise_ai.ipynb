{
 "cells": [
  {
   "cell_type": "markdown",
   "metadata": {},
   "source": [
    "\n",
    "# Treatise-AI-Music Demo\n",
    "### Authors: Tornike Karchkhadze, Keren Shao, Shlomo Dubnov\n"
   ]
  },
  {
   "cell_type": "code",
   "execution_count": null,
   "metadata": {},
   "outputs": [],
   "source": [
    "# 📦 Install dependencies\n",
    "!pip install pytorch-lightning==1.9.4 torchlibrosa ftfy braceexpand webdataset wget --quiet"
   ]
  },
  {
   "cell_type": "code",
   "execution_count": null,
   "metadata": {},
   "outputs": [],
   "source": [
    "#### clone repo\n",
    "# 🔽 Clone the repo (delete if already exists)\n",
    "%cd /content\n",
    "!rm -rf Treatise-AI-Music\n",
    "!git clone https://github.com/karchkha/Treatise-AI-Music.git --quiet\n",
    "%cd Treatise-AI-Music\n",
    "\n"
   ]
  },
  {
   "cell_type": "code",
   "execution_count": null,
   "metadata": {},
   "outputs": [],
   "source": [
    "from src.utilities.chkpt import ensure_checkpoints\n",
    "\n",
    "# this will download the checkpoints if they are not already present\n",
    "ensure_checkpoints()\n",
    "\n",
    "\n",
    "# 🧠 Monkey-patch torch.load to allow loading older .pt/.ckpt files\n",
    "# This is a workaround for the issue where torch.load() does not accept the 'weights_only' argument in older versions of PyTorch.\n",
    "import torch\n",
    "\n",
    "original_load = torch.load\n",
    "def patched_load(*args, **kwargs):\n",
    "    if 'weights_only' not in kwargs:\n",
    "        kwargs['weights_only'] = False\n",
    "    return original_load(*args, **kwargs)\n",
    "\n",
    "torch.load = patched_load\n",
    "print(\"✅ Patched torch.load to support older checkpoints.\")"
   ]
  },
  {
   "cell_type": "code",
   "execution_count": null,
   "metadata": {},
   "outputs": [],
   "source": [
    "!python infer_musicldm_continuous.py --texts treatise_commands.txt"
   ]
  },
  {
   "cell_type": "code",
   "execution_count": null,
   "metadata": {},
   "outputs": [],
   "source": []
  }
 ],
 "metadata": {
  "kernelspec": {
   "display_name": "musicldm_env",
   "language": "python",
   "name": "python3"
  },
  "language_info": {
   "codemirror_mode": {
    "name": "ipython",
    "version": 3
   },
   "file_extension": ".py",
   "mimetype": "text/x-python",
   "name": "python",
   "nbconvert_exporter": "python",
   "pygments_lexer": "ipython3",
   "version": "3.9.16"
  }
 },
 "nbformat": 4,
 "nbformat_minor": 2
}
