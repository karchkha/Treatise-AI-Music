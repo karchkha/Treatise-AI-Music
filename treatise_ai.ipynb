{
 "cells": [
  {
   "cell_type": "markdown",
   "metadata": {},
   "source": [
    "\n",
    "# Treatise-AI-Music Demo\n",
    "### Authors: Tornike Karchkhadze, Keren Shao, Shlomo Dubnov\n"
   ]
  },
  {
   "cell_type": "code",
   "execution_count": null,
   "metadata": {},
   "outputs": [],
   "source": [
    "# 📦 Install dependencies\n",
    "!pip install pytorch-lightning==1.9.4 torchlibrosa ftfy braceexpand webdataset wget vector_quantize_pytorch taming-transformers==0.0.1 --quiet\n",
    "!pip install numpy==1.26.4\n"
   ]
  },
  {
   "cell_type": "code",
   "execution_count": null,
   "metadata": {},
   "outputs": [],
   "source": [
    "#### clone repo\n",
    "# 🔽 Clone the repo (delete if already exists)\n",
    "%cd /content\n",
    "!rm -rf Treatise-AI-Music\n",
    "!git clone https://github.com/karchkha/Treatise-AI-Music.git --quiet\n",
    "%cd Treatise-AI-Music\n",
    "\n"
   ]
  },
  {
   "cell_type": "code",
   "execution_count": null,
   "metadata": {},
   "outputs": [],
   "source": [
    "from src.utilities.chkpt import ensure_checkpoints\n",
    "\n",
    "# this will download the checkpoints if they are not already present\n",
    "ensure_checkpoints()\n"
   ]
  },
  {
   "cell_type": "markdown",
   "metadata": {},
   "source": [
    "### 📄 How to Prepare Your Prompt File\n",
    "\n",
    "To generate music from graphic notation (like *Treatise*), you’ll need a **text file (`.txt`) with one descriptive sentence per line**. Each sentence should describe the visual impression, musical atmosphere, or movement suggested by a page or section of the score.\n",
    "\n",
    "You can create this file in two ways:\n",
    "\n",
    "#### ✍️ Option 1: Write the prompts yourself\n",
    "Example:\n",
    "```\n",
    "a gentle drone slowly rising with flickering harmonics\n",
    "chaotic bursts of percussive noise with sudden silences\n",
    "a fast sequence of high-pitched notes bouncing irregularly\n",
    "deep resonant tones fading into layered textures\n",
    "```\n",
    "\n",
    "#### 🤖 Option 2: Use ChatGPT to help\n",
    "Upload a page from *Treatise* into ChatGPT and ask:\n",
    "> “Can you describe this graphic score in 3–5 musical sentences?”\n",
    "\n",
    "Copy the output into a `.txt` file.\n",
    "\n",
    "---\n",
    "\n",
    "You can use the provided example files in the repo:\n",
    "- `treatise_commands.txt` (short version)\n",
    "- `treatise_commands_all.txt` (full version)\n",
    "\n",
    "Or upload your own `.txt` file in the next cell.\n"
   ]
  },
  {
   "cell_type": "markdown",
   "metadata": {},
   "source": []
  },
  {
   "cell_type": "markdown",
   "metadata": {},
   "source": [
    "## Run your .txt file with a command"
   ]
  },
  {
   "cell_type": "code",
   "execution_count": null,
   "metadata": {},
   "outputs": [],
   "source": [
    "%cd Treatise-AI-Music\n",
    "\n",
    "!python infer_musicldm_continuous.py --texts treatise_commands.txt"
   ]
  },
  {
   "cell_type": "markdown",
   "metadata": {},
   "source": [
    "📁 **See the generated audio files** in the folder:  \n",
    "\n",
    "\n",
    "\n",
    "`lightning_logs/musicldm_inference_logs/0/waveform/`\n"
   ]
  },
  {
   "cell_type": "code",
   "execution_count": null,
   "metadata": {},
   "outputs": [],
   "source": []
  }
 ],
 "metadata": {
  "kernelspec": {
   "display_name": "musicldm_env",
   "language": "python",
   "name": "python3"
  },
  "language_info": {
   "codemirror_mode": {
    "name": "ipython",
    "version": 3
   },
   "file_extension": ".py",
   "mimetype": "text/x-python",
   "name": "python",
   "nbconvert_exporter": "python",
   "pygments_lexer": "ipython3",
   "version": "3.9.16"
  }
 },
 "nbformat": 4,
 "nbformat_minor": 2
}
